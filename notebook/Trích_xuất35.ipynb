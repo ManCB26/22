{
  "metadata": {
    "kernelspec": {
      "language": "python",
      "display_name": "Python 3",
      "name": "python3"
    },
    "language_info": {
      "name": "python",
      "version": "3.7.12",
      "mimetype": "text/x-python",
      "codemirror_mode": {
        "name": "ipython",
        "version": 3
      },
      "pygments_lexer": "ipython3",
      "nbconvert_exporter": "python",
      "file_extension": ".py"
    },
    "colab": {
      "name": "Trích xuất.ipynb",
      "provenance": [],
      "toc_visible": true,
      "collapsed_sections": [
        "cCAIIxtSGOwn",
        "Mz84XFh1oJn6",
        "ec3pAXOkhdcJ",
        "Gs6gPHiEhvo6",
        "-K8cEor3h7XI"
      ],
      "include_colab_link": true
    }
  },
  "nbformat_minor": 0,
  "nbformat": 4,
  "cells": [
    {
      "cell_type": "markdown",
      "metadata": {
        "id": "view-in-github",
        "colab_type": "text"
      },
      "source": [
        "<a href=\"https://colab.research.google.com/github/ManCB26/22/blob/main/notebook/Tr%C3%ADch_xu%E1%BA%A5t35.ipynb\" target=\"_parent\"><img src=\"https://colab.research.google.com/assets/colab-badge.svg\" alt=\"Open In Colab\"/></a>"
      ]
    },
    {
      "cell_type": "markdown",
      "source": [
        "Cài đặt tuần tự phần trích xuất \\\n",
        "chưa xử lý Canny\n",
        "đã xong huMoments"
      ],
      "metadata": {
        "id": "Wm-mjG_kG19J"
      }
    },
    {
      "cell_type": "markdown",
      "source": [
        "# IMPORT & load data"
      ],
      "metadata": {
        "id": "cCAIIxtSGOwn"
      }
    },
    {
      "cell_type": "code",
      "source": [
        "import numba as nb\n",
        "from numba import jit\n",
        "import math\n",
        "from numba import cuda"
      ],
      "metadata": {
        "id": "x1DMq4cMusuu"
      },
      "execution_count": 2,
      "outputs": []
    },
    {
      "cell_type": "code",
      "source": [
        "!pip install -U xgboost\n",
        "from math import e\n",
        "import pandas as pd\n",
        "import numpy as np\n",
        "import cv2 as cv\n",
        "import random\n",
        "import matplotlib.pyplot as plt\n",
        "import random\n",
        "from xgboost import XGBRegressor\n",
        "import xgboost as xgb\n",
        "import pickle\n",
        "from sklearn.model_selection import GridSearchCV"
      ],
      "metadata": {
        "id": "74Z2Euancc7y",
        "execution": {
          "iopub.status.busy": "2022-04-11T08:25:17.409960Z",
          "iopub.execute_input": "2022-04-11T08:25:17.410343Z",
          "iopub.status.idle": "2022-04-11T08:25:18.928321Z",
          "shell.execute_reply.started": "2022-04-11T08:25:17.410247Z",
          "shell.execute_reply": "2022-04-11T08:25:18.927299Z"
        },
        "trusted": true,
        "colab": {
          "base_uri": "https://localhost:8080/"
        },
        "outputId": "b77c0b5f-0c7d-4250-f5ea-86ad5a7e7678"
      },
      "execution_count": 3,
      "outputs": [
        {
          "output_type": "stream",
          "name": "stdout",
          "text": [
            "Requirement already satisfied: xgboost in /usr/local/lib/python3.7/dist-packages (0.90)\n",
            "Collecting xgboost\n",
            "  Downloading xgboost-1.6.0-py3-none-manylinux2014_x86_64.whl (193.7 MB)\n",
            "\u001b[K     |████████████████████████████████| 193.7 MB 28 kB/s \n",
            "\u001b[?25hRequirement already satisfied: numpy in /usr/local/lib/python3.7/dist-packages (from xgboost) (1.21.6)\n",
            "Requirement already satisfied: scipy in /usr/local/lib/python3.7/dist-packages (from xgboost) (1.4.1)\n",
            "Installing collected packages: xgboost\n",
            "  Attempting uninstall: xgboost\n",
            "    Found existing installation: xgboost 0.90\n",
            "    Uninstalling xgboost-0.90:\n",
            "      Successfully uninstalled xgboost-0.90\n",
            "Successfully installed xgboost-1.6.0\n"
          ]
        }
      ]
    },
    {
      "cell_type": "code",
      "source": [
        "!gdown --id 1Eg_0c3mvQCu0SpVjLdik1-g1Tuz22ObS\n",
        "!unzip -q \"/content/plant-pathology-2020-fgvc7.zip\""
      ],
      "metadata": {
        "id": "k2E4ow4RAaSp",
        "colab": {
          "base_uri": "https://localhost:8080/"
        },
        "outputId": "858cd637-11d5-4f23-94df-3efd7f9a79ba"
      },
      "execution_count": 4,
      "outputs": [
        {
          "output_type": "stream",
          "name": "stdout",
          "text": [
            "/usr/local/lib/python3.7/dist-packages/gdown/cli.py:131: FutureWarning: Option `--id` was deprecated in version 4.3.1 and will be removed in 5.0. You don't need to pass it anymore to use a file ID.\n",
            "  category=FutureWarning,\n",
            "Downloading...\n",
            "From: https://drive.google.com/uc?id=1Eg_0c3mvQCu0SpVjLdik1-g1Tuz22ObS\n",
            "To: /content/plant-pathology-2020-fgvc7.zip\n",
            "100% 817M/817M [00:11<00:00, 73.1MB/s]\n"
          ]
        }
      ]
    },
    {
      "cell_type": "code",
      "source": [
        "!git clone https://github.com/XQuyTran/APP-CQ18.git"
      ],
      "metadata": {
        "colab": {
          "base_uri": "https://localhost:8080/"
        },
        "id": "q0BLZXhrAOpC",
        "outputId": "9e99a945-05a2-4c6e-c9e0-8aae42559a98"
      },
      "execution_count": 5,
      "outputs": [
        {
          "output_type": "stream",
          "name": "stdout",
          "text": [
            "Cloning into 'APP-CQ18'...\n",
            "remote: Enumerating objects: 196, done.\u001b[K\n",
            "remote: Counting objects: 100% (25/25), done.\u001b[K\n",
            "remote: Compressing objects: 100% (21/21), done.\u001b[K\n",
            "remote: Total 196 (delta 7), reused 14 (delta 4), pack-reused 171\u001b[K\n",
            "Receiving objects: 100% (196/196), 12.96 MiB | 8.60 MiB/s, done.\n",
            "Resolving deltas: 100% (84/84), done.\n"
          ]
        }
      ]
    },
    {
      "cell_type": "code",
      "source": [
        "test_table= pd.read_csv('/content/test.csv')\n",
        "train_table = pd.read_csv('/content/train.csv')"
      ],
      "metadata": {
        "id": "geUmoEIAeG5m",
        "execution": {
          "iopub.status.busy": "2022-04-11T08:25:18.930343Z",
          "iopub.execute_input": "2022-04-11T08:25:18.930939Z",
          "iopub.status.idle": "2022-04-11T08:25:18.959009Z",
          "shell.execute_reply.started": "2022-04-11T08:25:18.930882Z",
          "shell.execute_reply": "2022-04-11T08:25:18.958257Z"
        },
        "trusted": true
      },
      "execution_count": 6,
      "outputs": []
    },
    {
      "cell_type": "markdown",
      "source": [
        "# 1.TXL"
      ],
      "metadata": {
        "id": "_wYly3V1noSw"
      }
    },
    {
      "cell_type": "markdown",
      "source": [
        "##1.1 Load một ảnh "
      ],
      "metadata": {
        "id": "Mz84XFh1oJn6"
      }
    },
    {
      "cell_type": "code",
      "source": [
        "def getSampleToShow(keyColumn, sample):\n",
        "    list_sample_image = []\n",
        "    sample_train = train_table[train_table[keyColumn] == 1].sample(n = sample)\n",
        "    for image_id in sample_train['image_id']:\n",
        "        name = \"/content/images/\" + image_id + \".jpg\"\n",
        "        image = cv.imread(name)\n",
        "        im_rgb = cv.cvtColor(image, cv.COLOR_BGR2RGB)\n",
        "        list_sample_image.append(im_rgb)\n",
        "    return np.array(list_sample_image)\n",
        "\n",
        "def showImages(images):\n",
        "    plt.figure(figsize=(15,15))\n",
        "    for i in range(9):\n",
        "        plt.subplot(3,3,i+1)\n",
        "        plt.imshow(images[i])\n",
        "        \n",
        "def getImageToTest():\n",
        "    return cv.imread(\"/content/images/Train_382.jpg\")"
      ],
      "metadata": {
        "id": "CSYZXfDNnnSb",
        "execution": {
          "iopub.status.busy": "2022-04-11T08:25:19.839831Z",
          "iopub.execute_input": "2022-04-11T08:25:19.840136Z",
          "iopub.status.idle": "2022-04-11T08:25:19.847941Z",
          "shell.execute_reply.started": "2022-04-11T08:25:19.840104Z",
          "shell.execute_reply": "2022-04-11T08:25:19.847070Z"
        },
        "trusted": true
      },
      "execution_count": null,
      "outputs": []
    },
    {
      "cell_type": "code",
      "source": [
        "image = getImageToTest()\n",
        "plt.imshow(cv.cvtColor(image, cv.COLOR_BGR2RGB))\n",
        "image.shape"
      ],
      "metadata": {
        "id": "T6w54zT1oNvO",
        "execution": {
          "iopub.status.busy": "2022-04-11T08:25:31.129244Z",
          "iopub.execute_input": "2022-04-11T08:25:31.129548Z",
          "iopub.status.idle": "2022-04-11T08:25:31.877318Z",
          "shell.execute_reply.started": "2022-04-11T08:25:31.129510Z",
          "shell.execute_reply": "2022-04-11T08:25:31.876665Z"
        },
        "trusted": true
      },
      "execution_count": null,
      "outputs": []
    },
    {
      "cell_type": "code",
      "source": [
        "# max(image).all()"
      ],
      "metadata": {
        "id": "xoZboxnD04L0"
      },
      "execution_count": null,
      "outputs": []
    },
    {
      "cell_type": "markdown",
      "source": [
        "## 1.2 Canny"
      ],
      "metadata": {
        "id": "ec3pAXOkhdcJ"
      }
    },
    {
      "cell_type": "markdown",
      "source": [
        "### 1.2.1 canny chưa tuần tự"
      ],
      "metadata": {
        "id": "pJy6r7K8KKiR"
      }
    },
    {
      "cell_type": "code",
      "source": [
        "def applyCannyThreshold( frame, val):\n",
        "    ratio = 1.2\n",
        "    kernel_size = 3\n",
        "    low_threshold = val\n",
        "    img_blur = cv.GaussianBlur(frame, (3, 3), 0)\n",
        "    detected_edges = cv.Canny(img_blur, low_threshold, low_threshold*ratio, kernel_size)\n",
        "    mask = detected_edges != 0\n",
        "    dst = frame * (mask[:,:].astype(frame.dtype))\n",
        "    return dst\n",
        "\n",
        "gray_image = cv.cvtColor(image, cv.COLOR_BGR2GRAY)\n",
        "drivative_image = applyCannyThreshold(gray_image, 12)\n",
        "plt.imshow(drivative_image)"
      ],
      "metadata": {
        "id": "ULQ0RDtScKeS"
      },
      "execution_count": null,
      "outputs": []
    },
    {
      "cell_type": "markdown",
      "source": [
        "### 1.2.2 cannytuần tự chưa hoàn thành"
      ],
      "metadata": {
        "id": "Cmokd91ccOyo"
      }
    },
    {
      "cell_type": "code",
      "source": [
        "def scale_to_0_255(img):\n",
        "    min_val = np.min(img)\n",
        "    max_val = np.max(img)\n",
        "    new_img = (img - min_val) / (max_val - min_val) # 0-1\n",
        "    new_img *= 255\n",
        "    return new_img\n",
        "\n",
        "def my_canny(img, min_val, max_val, sobel_size=3, is_L2_gradient=False):   \n",
        "    #2. Noise Reduction\n",
        "    smooth_img = cv.GaussianBlur(img, ksize=(5, 5), sigmaX=1, sigmaY=1)\n",
        "    \n",
        "    #3. Finding Intensity Gradient of the Image\n",
        "    Gx = cv.Sobel(smooth_img, cv.CV_64F, 1, 0, ksize=sobel_size)\n",
        "    Gy = cv.Sobel(smooth_img, cv.CV_64F, 0, 1, ksize=sobel_size)\n",
        "        \n",
        "    if is_L2_gradient:\n",
        "        edge_gradient = np.sqrt(Gx*Gx + Gy*Gy)\n",
        "    else:\n",
        "        edge_gradient = np.abs(Gx) + np.abs(Gy)\n",
        "    \n",
        "    angle = np.arctan2(Gy, Gx) * 180 / np.pi\n",
        "    \n",
        "    # round angle to 4 directions\n",
        "    angle = np.abs(angle)\n",
        "    angle[angle <= 22.5] = 0\n",
        "    angle[angle >= 157.5] = 0\n",
        "    angle[(angle > 22.5) * (angle < 67.5)] = 45\n",
        "    angle[(angle >= 67.5) * (angle <= 112.5)] = 90\n",
        "    angle[(angle > 112.5) * (angle <= 157.5)] = 135\n",
        "    \n",
        "    #4. Non-maximum Suppression\n",
        "    keep_mask = np.zeros(smooth_img.shape, np.uint8)\n",
        "    for y in range(1, edge_gradient.shape[0]-1):\n",
        "        for x in range(1, edge_gradient.shape[1]-1):\n",
        "            area_grad_intensity = edge_gradient[y-1:y+2, x-1:x+2] # 3x3 area\n",
        "            area_angle = angle[y-1:y+2, x-1:x+2] # 3x3 area\n",
        "            current_angle = area_angle[1,1]\n",
        "            current_grad_intensity = area_grad_intensity[1,1]\n",
        "            \n",
        "            if (current_angle == 0).any():\n",
        "                if current_grad_intensity > max(area_grad_intensity[1,0], area_grad_intensity[1,2]):\n",
        "                    keep_mask[y,x] = 255\n",
        "                else:\n",
        "                    edge_gradient[y,x] = 0\n",
        "            elif (current_angle == 45).any():\n",
        "                t = max(area_grad_intensity[2,0], area_grad_intensity[0,2]).any()\n",
        "                if (current_grad_intensity > t):#.any():\n",
        "                    keep_mask[y,x] = 255\n",
        "                else:\n",
        "                    edge_gradient[y,x] = 0\n",
        "            elif (current_angle == 90).any():\n",
        "                if (current_grad_intensity > max(area_grad_intensity[0,1], area_grad_intensity[2,1])).any():\n",
        "                    keep_mask[y,x] = 255\n",
        "                else:\n",
        "                    edge_gradient[y,x] = 0\n",
        "            elif (current_angle == 135).any():\n",
        "                if (current_grad_intensity > max(area_grad_intensity[0,0], area_grad_intensity[2,2])).any():\n",
        "                    keep_mask[y,x] = 255\n",
        "                else:\n",
        "                    edge_gradient[y,x] = 0\n",
        "    \n",
        "    #5. Hysteresis Thresholding    \n",
        "    # canny_mask = np.zeros(smooth_img.shape, np.uint8)\n",
        "    # canny_mask[(keep_mask>0) * (edge_gradient>min_val)] = 255\n",
        "    \n",
        "    # return scale_to_0_255(canny_mask)\n",
        "\n"
      ],
      "metadata": {
        "id": "FktrMdFtKOZu"
      },
      "execution_count": null,
      "outputs": []
    },
    {
      "cell_type": "code",
      "source": [
        "# image = getImageToTest()\n",
        "# plt.imshow(cv.cvtColor(image, cv.COLOR_BGR2RGB))"
      ],
      "metadata": {
        "id": "teJg2dq0K04R"
      },
      "execution_count": null,
      "outputs": []
    },
    {
      "cell_type": "code",
      "source": [
        "# img = image\n",
        "# my_canny = my_canny(img, min_val=100, max_val=200)\n",
        "# edges = cv.Canny(img, 100, 200)\n",
        "\n",
        "# cv.imwrite('my_canny.jpg', my_canny)\n",
        "# cv.imwrite('edges.jpg', edges)"
      ],
      "metadata": {
        "id": "VTG_KN7cK3un"
      },
      "execution_count": null,
      "outputs": []
    },
    {
      "cell_type": "markdown",
      "source": [
        "## 1.3 Sử dụng phương pháp nén ảnh với threshold và liên kết các ô xung quanh để lấp khuyết ảnh."
      ],
      "metadata": {
        "id": "LCvG-HtLMqlz"
      }
    },
    {
      "cell_type": "code",
      "source": [
        "# Hàm dùng để nén ảnh với threshold là ratio sẽ trả ra kết quả là ảnh với block tương ứng với zip x zip\n",
        "# và nếu block nào không đủ pixel yêu cầu thì là 0 còn ngược lại thì là 1\n",
        "def zipImage(src, zip_x, zip_y, ratio):\n",
        "    rs, cs = src.shape\n",
        "    zip_rs = int(rs / zip_y)\n",
        "    zip_cs = int(cs / zip_x)\n",
        "    \n",
        "    for idx in range(0, zip_rs * zip_y, zip_y):\n",
        "        for jdx in range(0, zip_cs * zip_x, zip_x):\n",
        "            block_img = src[idx : idx + zip_y, jdx : jdx + zip_x]\n",
        "            num_pixel = np.sum(block_img > 0)\n",
        "            if num_pixel >= zip_x*zip_y * ratio:\n",
        "                block_img[:,:] = 1\n",
        "            else:\n",
        "                block_img[:,:] = 0\n",
        "\n",
        "    return src\n",
        "\n",
        "mask_image = zipImage(drivative_image, 8, 8, 0.12)\n",
        "mask_image = zipImage(mask_image, 16, 16, 0.2)\n",
        "\n",
        "plt.imshow(mask_image * 255)"
      ],
      "metadata": {
        "id": "1fkmVXPRJjsr"
      },
      "execution_count": null,
      "outputs": []
    },
    {
      "cell_type": "code",
      "source": [
        "# Hàm dùng để liên kết các ô xung quanh để lấp khuyết sẽ trả ra kết quả là một ma trận mask\n",
        "def joinNeiboorPixel(src, zip_x, zip_y, mask_size, ratio):\n",
        "    rs, cs = src.shape\n",
        "    zip_rs = int(rs / zip_y)\n",
        "    zip_cs = int(cs / zip_x)\n",
        "    half = int(mask_size / 2)\n",
        "    dst = src.copy()\n",
        "    for idx in range(half , zip_rs - half):\n",
        "        for jdx in range(half, zip_cs - half):\n",
        "            start_row_mask = (idx - half ) * zip_y\n",
        "            end_row_mask = (idx + half + 1) * zip_y\n",
        "            start_col_mask = (jdx - half) * zip_x\n",
        "            end_col_mask = (jdx + half + 1) * zip_x\n",
        "            mask_block = src[start_row_mask : end_row_mask, start_col_mask : end_col_mask]\n",
        "            block_img = dst[idx * zip_y : (idx + 1) * zip_y, jdx * zip_x : (jdx + 1) * zip_x]\n",
        "            num_pixel = np.sum(mask_block > 0)\n",
        "            if num_pixel >= mask_size * mask_size * zip_x * zip_y * ratio:\n",
        "                block_img[:,:] = 1\n",
        "    return dst\n",
        "\n",
        "mask_image = joinNeiboorPixel(mask_image, 8, 8, 3, 0.2)\n",
        "mask_image = joinNeiboorPixel(mask_image, 16, 16, 3, 1 / 3)\n",
        "\n",
        "plt.imshow(mask_image * 255)"
      ],
      "metadata": {
        "id": "KZ8xENoeLuB3"
      },
      "execution_count": null,
      "outputs": []
    },
    {
      "cell_type": "code",
      "source": [
        "# Chạy mỗi hàm 2 lần để có một mask nén tốt\n",
        "# và có sự liên kết giữa các pixel tốt hơn\n",
        "mask_image = zipImage(drivative_image, 8, 8, 0.12)\n",
        "mask_image = zipImage(mask_image, 16, 16, 0.2)\n",
        "mask_image = joinNeiboorPixel(mask_image, 8, 8, 3, 0.2)\n",
        "mask_image = joinNeiboorPixel(mask_image, 16, 16, 3, 1 / 3)\n",
        "for chanel in range(0, 3):\n",
        "    image[:,:,chanel] = image[:,:,chanel] * mask_image\n",
        "\n",
        "plt.imshow(cv.cvtColor(image, cv.COLOR_BGR2RGB))"
      ],
      "metadata": {
        "id": "Au9ZNrhggNXS"
      },
      "execution_count": null,
      "outputs": []
    },
    {
      "cell_type": "markdown",
      "source": [
        "#2 Trích xuất"
      ],
      "metadata": {
        "id": "mTfcP9wkgGLw"
      }
    },
    {
      "cell_type": "markdown",
      "source": [
        "##2.1 Hàm dùng để trích xuất color histogram và hue monents"
      ],
      "metadata": {
        "id": "Gs6gPHiEhvo6"
      }
    },
    {
      "cell_type": "code",
      "source": [
        "def fd_histogram(image, mask=None):\n",
        "    bins = 8\n",
        "    # convert the image to HSV color-space\n",
        "    image = cv.cvtColor(image, cv.COLOR_BGR2HSV)\n",
        "    print(\"shape input calH \", image.shape)\n",
        "    # compute the color histogram\n",
        "    hist  = cv.calcHist([image], [0, 1, 2], None, [bins, bins, bins], [1, 256, 1, 256, 1, 256])\n",
        "    print(\"shape hist :\", hist.shape)\n",
        "    # normalize the histogram\n",
        "    cv.normalize(hist, hist)\n",
        "    # return the histogram\n",
        "    return hist.flatten()\n",
        "\n",
        "def fd_hu_moments(image):\n",
        "    image = cv.cvtColor(image, cv.COLOR_BGR2GRAY)\n",
        "    # print(\"input Moments shape\",image.shape)\n",
        "    # print(image)\n",
        "    feature = cv.HuMoments(cv.moments(image)).flatten()\n",
        "    return feature\n",
        "# fd_hu_moments(getImageToTest())    "
      ],
      "metadata": {
        "id": "s3UOwHQAh5eH"
      },
      "execution_count": null,
      "outputs": []
    },
    {
      "cell_type": "code",
      "source": [
        "def getPathImageById(image_id):\n",
        "    return \"../input/plant-pathology-2020-fgvc7/images/\" + image_id + \".jpg\"\n",
        "\n",
        "def getFigureForImage(path):\n",
        "    img = cv.imread(path)\n",
        "    gray = cv.cvtColor(img, cv.COLOR_BGR2GRAY)\n",
        "    gray = cv.GaussianBlur(gray, (3, 3), 0)\n",
        "    mask_img = applyCannyThreshold(gray, 12)\n",
        "    mask_img = zipImage(mask_img, 8, 8, 0.12)\n",
        "    mask_img = zipImage(mask_img, 16, 16, 0.2)\n",
        "    mask_img = joinNeiboorPixel(mask_img, 8, 8, 3, 0.15)\n",
        "    mask_img = joinNeiboorPixel(mask_img, 16, 16, 3, 1 / 3)\n",
        "    for chanel in range(0, 3):\n",
        "        img[:,:,chanel] = img[:,:,chanel] * mask_img\n",
        "\n",
        "    hist_figure = fd_histogram(img).astype(np.float64)\n",
        "    hu_monents = fd_hu_moments(img)\n",
        "    fig = np.concatenate((hist_figure, hu_monents))\n",
        "    return fig\n"
      ],
      "metadata": {
        "id": "ml4XCGxzlYzo"
      },
      "execution_count": null,
      "outputs": []
    },
    {
      "cell_type": "markdown",
      "source": [
        "##2.2 Hàm tuần tự dùng để trích xuất hue moments"
      ],
      "metadata": {
        "id": "-K8cEor3h7XI"
      }
    },
    {
      "cell_type": "code",
      "source": [
        "# %%time\n",
        "image = cv.cvtColor(getImageToTest(), cv.COLOR_BGR2GRAY)\n",
        "print(\"input Moments shape\",image.shape)\n",
        "cv_check=cv.moments(image)"
      ],
      "metadata": {
        "id": "GwuaKRXCnH5_"
      },
      "execution_count": null,
      "outputs": []
    },
    {
      "cell_type": "code",
      "source": [
        "cv_check"
      ],
      "metadata": {
        "id": "WdM-m5FBPJyp"
      },
      "execution_count": null,
      "outputs": []
    },
    {
      "cell_type": "code",
      "source": [
        "m=np.zeros((4, 4), dtype=np.float64)\n",
        "mu=np.zeros((4, 4), dtype=np.float64)\n",
        "nu=np.zeros((4, 4), dtype=np.float64)"
      ],
      "metadata": {
        "id": "6AoJX6Ht4t2E"
      },
      "execution_count": null,
      "outputs": []
    },
    {
      "cell_type": "code",
      "source": [
        "# Moments # tính theo công thức tại https://en.wikipedia.org/wiki/Image_moment#Central_moments\n",
        "# tính toàn bộ --> tối ưu \n",
        "'''\n",
        "input:  ảnh 2D\n",
        "        m_ mảng 3x3 : M ~ raw Moments\n",
        "        mu_ 3x3: mu ~ central moments\n",
        "        nu_ 3x3: nu ~ normalized central moments \n",
        "output: nu_\n",
        "'''\n",
        "@jit\n",
        "def cvMoments(img,m_,mu_,nu_):\n",
        "  # tính m_\n",
        "  for i in range(4):\n",
        "    for j in range(4):\n",
        "      temp=0\n",
        "      if (i,j) not in [(1,3),(2,2),(2,3)]:\n",
        "        for x in range(img.shape[0]):\n",
        "          for y in range(img.shape[1]):\n",
        "            temp=temp+img[x,y]*(x**i)*(y**j)\n",
        "        m_[i,j]=temp\n",
        "      if i==3:\n",
        "        break\n",
        "  \n",
        "  # xbar ybar\n",
        "  xbar=m_[1,0]/m_[0,0]\n",
        "  ybar=m_[0,1]/m_[0,0]\n",
        "\n",
        "  # tính mu\n",
        "  mu_[1,1] = m_[1,1] - xbar*m_[0,1]\n",
        "  mu_[0,2] = m_[2,0] - xbar*m_[1,0]\n",
        "  mu_[2,0] = m_[0,2] - ybar*m_[0,1]\n",
        "  mu_[1,2] = m_[2,1] - 2*xbar*m_[1,1] - ybar*m_[2,0] + 2*(xbar**2)*m_[0,1]\n",
        "  mu_[2,1] = m_[1,2] - 2*ybar*m_[1,1] - xbar*m_[0,2] + 2*(ybar**2)*m_[1,0]\n",
        "  mu_[0,3] = m_[3,0] - 3*xbar*m_[2,0] + 2*(xbar**2)*m_[1,0]\n",
        "  mu_[3,0] = m_[0,3] - 3*ybar*m_[0,2] + 2*(ybar**2)*m_[0,1]\n",
        "\n",
        "  #tính nu  nu_ji = mu_ji / [m00^(((i+j)/2)+1)]\n",
        "  for i in range(4):\n",
        "    for j in range(4):\n",
        "      nu_[i,j] = mu_[i,j]/(m_[0,0]**(((i+j)/2)+1))\n",
        " \n",
        "  return nu_\n",
        "    \n"
      ],
      "metadata": {
        "id": "C7BkkB5aioxA"
      },
      "execution_count": null,
      "outputs": []
    },
    {
      "cell_type": "code",
      "source": [
        "nu2=cvMoments(image,m,mu,nu)"
      ],
      "metadata": {
        "id": "BKOK2IgfVx5F"
      },
      "execution_count": null,
      "outputs": []
    },
    {
      "cell_type": "code",
      "source": [
        "cv.HuMoments(cv.moments(image))"
      ],
      "metadata": {
        "id": "8kJQM5TqaW4J"
      },
      "execution_count": null,
      "outputs": []
    },
    {
      "cell_type": "code",
      "source": [
        "# HuMoments\n",
        "@jit\n",
        "def cvHuMoments(eta,hu_):\n",
        "  hu_[0] =  eta[2][0] + eta[0][2]\n",
        "  hu_[1] = (eta[2][0] - eta[0][2])**2 + 4*eta[1][1]**2\n",
        "  hu_[2] = (eta[3][0] - 3*eta[1][2])**2 + (3*eta[2][1] - eta[0][3])**2\n",
        "  hu_[3] = (eta[3][0] + eta[1][2])**2 + (eta[2][1] + eta[0][3])**2\n",
        "  hu_[4] = (eta[3][0] - 3*eta[1][2])*(eta[3][0] + eta[1][2])*((eta[3][0] + eta[1][2])**2 - 3*(eta[2][1] + eta[0][3])**2) +\\\n",
        "        (3*eta[2][1] - eta[0][3])*(eta[2][1] + eta[0][3])*(3*(eta[3][0] + eta[1][2])**2 - (eta[2][1] + eta[0][3])**2)\n",
        "  hu_[5] = (eta[2][0] - eta[0][2])*((eta[3][0] + eta[1][2])**2 - (eta[2][1] + eta[0][3])**2) + \\\n",
        "          4*eta[1][1]*(eta[3][0] + eta[1][2])*(eta[2][1] + eta[0][3])\n",
        "  hu_[6] = (3*eta[2][1] - eta[0][3])*(eta[2][1] + eta[0][3])*(3*(eta[3][0] + eta[1][2])**2-(eta[2][1] + eta[0][3])**2) -\\\n",
        "          (eta[3][0] - 3*eta[1][2])*(eta[1][2] + eta[0][3])*(3*(eta[3][0] + eta[1][2])**2-(eta[2][1] + eta[0][3])**2)\n",
        "  return hu_\n"
      ],
      "metadata": {
        "id": "7zIHlnb3iAy5"
      },
      "execution_count": null,
      "outputs": []
    },
    {
      "cell_type": "code",
      "source": [
        "hu=np.zeros(7,float) \n",
        "cvHuMoments(nu2,hu)\n",
        "\n",
        "# nu2[0][2]"
      ],
      "metadata": {
        "id": "amWe9Ya_abIK"
      },
      "execution_count": null,
      "outputs": []
    },
    {
      "cell_type": "markdown",
      "source": [
        "##2.3 Hàm tuần tự dùng để trích xuất color histogram"
      ],
      "metadata": {
        "id": "X43sTMEcgNZp"
      }
    },
    {
      "cell_type": "code",
      "source": [
        "bins=8\n",
        "image = cv.cvtColor(cv.imread('/content/images/Train_382.jpg'), cv.COLOR_BGR2HSV)\n",
        "hist_correct  = cv.calcHist([image], [0, 1, 2], None, [bins, bins, bins], [0, 256, 0, 256, 0, 256])"
      ],
      "metadata": {
        "id": "RYBeeVl5AMVE"
      },
      "execution_count": 7,
      "outputs": []
    },
    {
      "cell_type": "code",
      "source": [
        "def compute_hist(img): \n",
        "  hist = np.zeros((8,8,8), np.int32) \n",
        "  h, w,d = img.shape[:3] \n",
        "  for i in range(h): \n",
        "    for j in range(w): \n",
        "      x,y,z=img[i][j][0]//32,img[i][j][1]//32,img[i][j][2]//32\n",
        "      hist[x][y][z] =hist[x][y][z] + 1 \n",
        "  return hist\n",
        "hist_=compute_hist(image)"
      ],
      "metadata": {
        "id": "uNJ8ZlJ_ongt"
      },
      "execution_count": 8,
      "outputs": []
    },
    {
      "cell_type": "code",
      "source": [
        "sum(hist_.flatten()!=hist_correct.flatten())"
      ],
      "metadata": {
        "id": "zjxdEaR2klAI",
        "colab": {
          "base_uri": "https://localhost:8080/"
        },
        "outputId": "abf1b9cf-5300-4240-8732-9898e0668d4b"
      },
      "execution_count": 9,
      "outputs": [
        {
          "output_type": "execute_result",
          "data": {
            "text/plain": [
              "0"
            ]
          },
          "metadata": {},
          "execution_count": 9
        }
      ]
    },
    {
      "cell_type": "code",
      "source": [
        "# pd.set_option('display.max_colwidth', 200) # Để nhìn rõ hơn\n",
        "\n",
        "# def missing_ratio(df):\n",
        "#     return (df.isna().mean() * 100).round(1)\n",
        "# def num_values(df):\n",
        "#     return df.nunique()\n",
        "# def value_ratios(c):\n",
        "#     return dict((c.value_counts(normalize=True) * 100).round(1))\n",
        "# tt=df.agg([missing_ratio, num_values, value_ratios]).T\n",
        "# tt.head(2)"
      ],
      "metadata": {
        "id": "ogpHyxRanbbG"
      },
      "execution_count": null,
      "outputs": []
    }
  ]
}